{
 "cells": [
  {
   "cell_type": "markdown",
   "metadata": {},
   "source": [
    "## 7.2 VGGNet(2014)\n",
    "* 다양한 합성곱 신경망 모델중 가장 대중적으로 사용되는 VGGNet을 실습해 봅니다. 우선, 라이브러리를 로드합니다. 예측에 사용할 정답값을 폴더명을 사용해서 만들어 줍니다. OpenCV를 통해 이미지를 로드하고 이미지의 사이즈가 모두 동일하게 변경합니다. 이미지를 numpy의 배열 형태로 만듭니다. LabelEncoder를 통해 예측값을 수치 데이터로 변경합니다. 학습, 검증 데이터를 나눕니다. 학습하기에 적절한 형태의 배열 형태로 변경합니다. 19개의 층을 사용하는 VGG19 모델을 tensorflow.keras.applications.vgg19을 통해 불러옵니다. 모델을 만들고 컴파일을 합니다.\n",
    "* 이를 바탕으로 학습을 진행합니다. 에포크를 통해 학습 횟수를 적절하게 조정하면 성능이 좀 더 좋아집니다. 학습한 내용을 history 로 받아 결과를 시각화 해봅니다. 학습세트의 정확도가 점점 높아지고 검증세트도 성능이 좋아지지만 어느 순간 정체하게 됩니다. 시각화를 통해 정확도와 손실률이 에포크를 더해갈 수록 변화하는 수치를 확인해 볼 수 있습니다. 학습이 잘 되었다면 테스트 세트를 통해 예측을 합니다. 예측이 되었다면 실제값과의 차이를 비교해 봅니다.\n"
   ]
  },
  {
   "cell_type": "code",
   "execution_count": 1,
   "metadata": {
    "_cell_guid": "b1076dfc-b9ad-4769-8c92-a6c4dae69d19",
    "_kg_hide-output": true,
    "_uuid": "8f2839f25d086af736a60e9eeb907d3b93b6e0e5"
   },
   "outputs": [],
   "source": [
    "# 라이브러리를 로드합니다.\n",
    "import numpy as np\n",
    "import pandas as pd\n",
    "import matplotlib.pyplot as plt\n",
    "import random"
   ]
  },
  {
   "cell_type": "code",
   "execution_count": 2,
   "metadata": {
    "_cell_guid": "79c7e3d0-c299-4dcb-8224-4455121ee9b0",
    "_uuid": "d629ff2d2480ee46fbb7e2d37f6b5fab8052498a"
   },
   "outputs": [
    {
     "data": {
      "text/plain": [
       "['cloudy', 'shine', 'sunrise', 'rainy', 'foggy']"
      ]
     },
     "execution_count": 2,
     "metadata": {},
     "output_type": "execute_result"
    }
   ],
   "source": [
    "# 예측에 사용할 정답값을 폴더명을 사용해서 만들어 줍니다.\n",
    "import os\n",
    "root_dir = \"images/\"\n",
    "image_label = os.listdir(root_dir)\n",
    "image_label.remove(\"test.csv\")\n",
    "image_label.remove(\"alien_test\")\n",
    "image_label"
   ]
  },
  {
   "cell_type": "code",
   "execution_count": 3,
   "metadata": {},
   "outputs": [],
   "source": [
    "# OpenCV를 통해 이미지를 로드하고 이미지의 사이즈가 모두 동일하게 변경합니다.\n",
    "import cv2\n",
    "import tqdm as tqdm\n",
    "x = []\n",
    "y = [] \n",
    "dataset =[]\n",
    "def create_dataset(directory,dir_name):\n",
    "    for i in tqdm.tqdm(os.listdir(directory)):\n",
    "        full_path = os.path.join(directory,i)\n",
    "        try:\n",
    "            img = cv2.imread(full_path)\n",
    "            img = cv2.cvtColor(img, cv2.COLOR_BGR2RGB)\n",
    "            img = cv2.resize(img,(150,150))\n",
    "        except:\n",
    "            continue\n",
    "        x.append(img)\n",
    "        y.append(dir_name)\n",
    "    return x,y"
   ]
  },
  {
   "cell_type": "code",
   "execution_count": 4,
   "metadata": {},
   "outputs": [
    {
     "name": "stderr",
     "output_type": "stream",
     "text": [
      "100%|██████████| 300/300 [00:00<00:00, 371.22it/s]\n",
      "100%|██████████| 250/250 [00:00<00:00, 286.00it/s]\n",
      "100%|██████████| 350/350 [00:02<00:00, 133.04it/s]\n",
      "100%|██████████| 300/300 [00:02<00:00, 104.82it/s]\n",
      "100%|██████████| 300/300 [00:01<00:00, 157.23it/s]\n"
     ]
    }
   ],
   "source": [
    "for img_label in image_label:\n",
    "    x,y = create_dataset(f\"{root_dir}{img_label}\", img_label)"
   ]
  },
  {
   "cell_type": "code",
   "execution_count": 5,
   "metadata": {},
   "outputs": [
    {
     "data": {
      "text/plain": [
       "((1498, 150, 150, 3), (1498,))"
      ]
     },
     "execution_count": 5,
     "metadata": {},
     "output_type": "execute_result"
    }
   ],
   "source": [
    "# 이미지를 numpy의 배열 형태로 만듭니다.\n",
    "x = np.array(x)\n",
    "y = np.array(y)\n",
    "x.shape,y.shape"
   ]
  },
  {
   "cell_type": "code",
   "execution_count": 6,
   "metadata": {},
   "outputs": [],
   "source": [
    "# LabelEncoder를 통해 예측값을 수치 데이터로 변경합니다.\n",
    "from sklearn.preprocessing import LabelEncoder\n",
    "le = LabelEncoder()\n",
    "y = le.fit_transform(y)"
   ]
  },
  {
   "cell_type": "code",
   "execution_count": 7,
   "metadata": {},
   "outputs": [],
   "source": [
    "# 학습, 검증 데이터를 나눕니다.\n",
    "from sklearn.model_selection import train_test_split\n",
    "x_train, x_test, y_train, y_test = train_test_split(x, y, test_size=0.2, random_state=42)"
   ]
  },
  {
   "cell_type": "code",
   "execution_count": 8,
   "metadata": {},
   "outputs": [],
   "source": [
    "# 학습하기에 적절한 형태의 배열 형태로 변경합니다.\n",
    "img_size =150\n",
    "\n",
    "x_train = np.array(x_train)/255.0\n",
    "x_test = np.array(x_test)/255.0\n",
    "\n",
    "\n",
    "x_train = x_train.reshape(-1,img_size,img_size,3)\n",
    "y_train = np.array(y_train)\n",
    "\n",
    "x_test = x_test.reshape(-1,img_size,img_size,3)\n",
    "y_test = np.array(y_test)"
   ]
  },
  {
   "cell_type": "code",
   "execution_count": 9,
   "metadata": {},
   "outputs": [],
   "source": [
    "from sklearn.preprocessing import LabelBinarizer\n",
    "lb = LabelBinarizer()\n",
    "y_train_lb = lb.fit_transform(y_train)\n",
    "y_test_lb = lb.fit_transform(y_test)"
   ]
  },
  {
   "cell_type": "code",
   "execution_count": 10,
   "metadata": {},
   "outputs": [
    {
     "data": {
      "text/plain": [
       "((1198, 5), (300, 5))"
      ]
     },
     "execution_count": 10,
     "metadata": {},
     "output_type": "execute_result"
    }
   ],
   "source": [
    "y_train_lb.shape,y_test_lb.shape"
   ]
  },
  {
   "cell_type": "markdown",
   "metadata": {},
   "source": [
    "## VGG19 "
   ]
  },
  {
   "cell_type": "code",
   "execution_count": 11,
   "metadata": {},
   "outputs": [],
   "source": [
    "# 19개의 층을 사용하는 VGG19 모델을 불러옵니다.\n",
    "from tensorflow.keras.applications.vgg19 import VGG19\n",
    "vgg = VGG19(weights=\"imagenet\", include_top=False, input_shape=(img_size, img_size, 3))"
   ]
  },
  {
   "cell_type": "code",
   "execution_count": 12,
   "metadata": {},
   "outputs": [],
   "source": [
    "for layer in vgg.layers:\n",
    "    layer.trainable = False"
   ]
  },
  {
   "cell_type": "code",
   "execution_count": 13,
   "metadata": {},
   "outputs": [],
   "source": [
    "from tensorflow.keras import Sequential\n",
    "from tensorflow.keras.layers import Flatten, Dense\n",
    "model = Sequential()\n",
    "model.add(vgg)\n",
    "model.add(Flatten())\n",
    "model.add(Dense(5,activation=\"softmax\"))"
   ]
  },
  {
   "cell_type": "code",
   "execution_count": 14,
   "metadata": {},
   "outputs": [
    {
     "name": "stdout",
     "output_type": "stream",
     "text": [
      "Model: \"sequential\"\n",
      "_________________________________________________________________\n",
      "Layer (type)                 Output Shape              Param #   \n",
      "=================================================================\n",
      "vgg19 (Functional)           (None, 4, 4, 512)         20024384  \n",
      "_________________________________________________________________\n",
      "flatten (Flatten)            (None, 8192)              0         \n",
      "_________________________________________________________________\n",
      "dense (Dense)                (None, 5)                 40965     \n",
      "=================================================================\n",
      "Total params: 20,065,349\n",
      "Trainable params: 40,965\n",
      "Non-trainable params: 20,024,384\n",
      "_________________________________________________________________\n"
     ]
    }
   ],
   "source": [
    "model.summary()"
   ]
  },
  {
   "cell_type": "code",
   "execution_count": 15,
   "metadata": {},
   "outputs": [],
   "source": [
    "model.compile(optimizer=\"adam\", loss=\"categorical_crossentropy\", metrics=\"accuracy\")\n",
    "\n",
    "from tensorflow.keras.callbacks import ModelCheckpoint, EarlyStopping\n",
    "checkpoint = ModelCheckpoint(\"vgg19.h5\",monitor=\"val_accuracy\", verbose=1, save_best_only=True,\n",
    "                             save_weights_only=False)\n",
    "earlystop = EarlyStopping(monitor=\"val_accuracy\", patience=5, verbose=1)"
   ]
  },
  {
   "cell_type": "code",
   "execution_count": 16,
   "metadata": {},
   "outputs": [
    {
     "name": "stdout",
     "output_type": "stream",
     "text": [
      "[0 1] [4792 1198]\n"
     ]
    }
   ],
   "source": [
    "unique,counts = np.unique(y_train_lb, return_counts=True)\n",
    "print(unique,counts)"
   ]
  },
  {
   "cell_type": "code",
   "execution_count": 17,
   "metadata": {},
   "outputs": [
    {
     "name": "stdout",
     "output_type": "stream",
     "text": [
      "Epoch 1/15\n",
      "38/38 [==============================] - ETA: 0s - loss: 1.0370 - accuracy: 0.6093\n",
      "Epoch 00001: val_accuracy improved from -inf to 0.78333, saving model to vgg19.h5\n",
      "38/38 [==============================] - 113s 3s/step - loss: 1.0370 - accuracy: 0.6093 - val_loss: 0.6235 - val_accuracy: 0.7833\n",
      "Epoch 2/15\n",
      "38/38 [==============================] - ETA: 0s - loss: 0.4895 - accuracy: 0.8456\n",
      "Epoch 00002: val_accuracy improved from 0.78333 to 0.81667, saving model to vgg19.h5\n",
      "38/38 [==============================] - 114s 3s/step - loss: 0.4895 - accuracy: 0.8456 - val_loss: 0.4737 - val_accuracy: 0.8167\n",
      "Epoch 3/15\n",
      "38/38 [==============================] - ETA: 0s - loss: 0.3631 - accuracy: 0.8948\n",
      "Epoch 00003: val_accuracy improved from 0.81667 to 0.84000, saving model to vgg19.h5\n",
      "38/38 [==============================] - 111s 3s/step - loss: 0.3631 - accuracy: 0.8948 - val_loss: 0.4312 - val_accuracy: 0.8400\n",
      "Epoch 4/15\n",
      "38/38 [==============================] - ETA: 0s - loss: 0.2924 - accuracy: 0.9240\n",
      "Epoch 00004: val_accuracy improved from 0.84000 to 0.86333, saving model to vgg19.h5\n",
      "38/38 [==============================] - 111s 3s/step - loss: 0.2924 - accuracy: 0.9240 - val_loss: 0.3761 - val_accuracy: 0.8633\n",
      "Epoch 5/15\n",
      "38/38 [==============================] - ETA: 0s - loss: 0.2316 - accuracy: 0.9466\n",
      "Epoch 00005: val_accuracy improved from 0.86333 to 0.89000, saving model to vgg19.h5\n",
      "38/38 [==============================] - 106s 3s/step - loss: 0.2316 - accuracy: 0.9466 - val_loss: 0.3718 - val_accuracy: 0.8900\n",
      "Epoch 6/15\n",
      "38/38 [==============================] - ETA: 0s - loss: 0.2054 - accuracy: 0.9516\n",
      "Epoch 00006: val_accuracy did not improve from 0.89000\n",
      "38/38 [==============================] - 117s 3s/step - loss: 0.2054 - accuracy: 0.9516 - val_loss: 0.3480 - val_accuracy: 0.8767\n",
      "Epoch 7/15\n",
      "38/38 [==============================] - ETA: 0s - loss: 0.1687 - accuracy: 0.9666\n",
      "Epoch 00007: val_accuracy improved from 0.89000 to 0.90333, saving model to vgg19.h5\n",
      "38/38 [==============================] - 114s 3s/step - loss: 0.1687 - accuracy: 0.9666 - val_loss: 0.3149 - val_accuracy: 0.9033\n",
      "Epoch 8/15\n",
      "38/38 [==============================] - ETA: 0s - loss: 0.1488 - accuracy: 0.9708\n",
      "Epoch 00008: val_accuracy did not improve from 0.90333\n",
      "38/38 [==============================] - 105s 3s/step - loss: 0.1488 - accuracy: 0.9708 - val_loss: 0.3213 - val_accuracy: 0.8867\n",
      "Epoch 9/15\n",
      "38/38 [==============================] - ETA: 0s - loss: 0.1332 - accuracy: 0.9716\n",
      "Epoch 00009: val_accuracy did not improve from 0.90333\n",
      "38/38 [==============================] - 104s 3s/step - loss: 0.1332 - accuracy: 0.9716 - val_loss: 0.3194 - val_accuracy: 0.8767\n",
      "Epoch 10/15\n",
      "38/38 [==============================] - ETA: 0s - loss: 0.1209 - accuracy: 0.9791\n",
      "Epoch 00010: val_accuracy did not improve from 0.90333\n",
      "38/38 [==============================] - 102s 3s/step - loss: 0.1209 - accuracy: 0.9791 - val_loss: 0.2997 - val_accuracy: 0.9000\n",
      "Epoch 11/15\n",
      "38/38 [==============================] - ETA: 0s - loss: 0.1095 - accuracy: 0.9808\n",
      "Epoch 00011: val_accuracy did not improve from 0.90333\n",
      "38/38 [==============================] - 101s 3s/step - loss: 0.1095 - accuracy: 0.9808 - val_loss: 0.3169 - val_accuracy: 0.8867\n",
      "Epoch 12/15\n",
      "38/38 [==============================] - ETA: 0s - loss: 0.0983 - accuracy: 0.9850\n",
      "Epoch 00012: val_accuracy did not improve from 0.90333\n",
      "38/38 [==============================] - 99s 3s/step - loss: 0.0983 - accuracy: 0.9850 - val_loss: 0.2907 - val_accuracy: 0.9033\n",
      "Epoch 00012: early stopping\n"
     ]
    }
   ],
   "source": [
    "batch_size=32\n",
    "history =  model.fit(x_train, y_train_lb, epochs=15, validation_data=(x_test, y_test_lb),\n",
    "                     batch_size=32 ,verbose=1, callbacks=[checkpoint, earlystop])"
   ]
  },
  {
   "cell_type": "code",
   "execution_count": 18,
   "metadata": {},
   "outputs": [
    {
     "name": "stdout",
     "output_type": "stream",
     "text": [
      "10/10 [==============================] - 17s 2s/step - loss: 0.2907 - accuracy: 0.9033\n",
      "Loss: 0.29070132970809937\n",
      "Accuracy: 0.903333306312561\n"
     ]
    }
   ],
   "source": [
    "loss, accuracy = model.evaluate(x_test, y_test_lb)\n",
    "print(f\"Loss: {loss}\")\n",
    "print(f\"Accuracy: {accuracy}\")     "
   ]
  },
  {
   "cell_type": "code",
   "execution_count": 19,
   "metadata": {},
   "outputs": [
    {
     "data": {
      "text/html": [
       "<div>\n",
       "<style scoped>\n",
       "    .dataframe tbody tr th:only-of-type {\n",
       "        vertical-align: middle;\n",
       "    }\n",
       "\n",
       "    .dataframe tbody tr th {\n",
       "        vertical-align: top;\n",
       "    }\n",
       "\n",
       "    .dataframe thead th {\n",
       "        text-align: right;\n",
       "    }\n",
       "</style>\n",
       "<table border=\"1\" class=\"dataframe\">\n",
       "  <thead>\n",
       "    <tr style=\"text-align: right;\">\n",
       "      <th></th>\n",
       "      <th>loss</th>\n",
       "      <th>accuracy</th>\n",
       "      <th>val_loss</th>\n",
       "      <th>val_accuracy</th>\n",
       "    </tr>\n",
       "  </thead>\n",
       "  <tbody>\n",
       "    <tr>\n",
       "      <th>0</th>\n",
       "      <td>1.037013</td>\n",
       "      <td>0.609349</td>\n",
       "      <td>0.623510</td>\n",
       "      <td>0.783333</td>\n",
       "    </tr>\n",
       "    <tr>\n",
       "      <th>1</th>\n",
       "      <td>0.489470</td>\n",
       "      <td>0.845576</td>\n",
       "      <td>0.473671</td>\n",
       "      <td>0.816667</td>\n",
       "    </tr>\n",
       "    <tr>\n",
       "      <th>2</th>\n",
       "      <td>0.363113</td>\n",
       "      <td>0.894825</td>\n",
       "      <td>0.431182</td>\n",
       "      <td>0.840000</td>\n",
       "    </tr>\n",
       "    <tr>\n",
       "      <th>3</th>\n",
       "      <td>0.292407</td>\n",
       "      <td>0.924040</td>\n",
       "      <td>0.376074</td>\n",
       "      <td>0.863333</td>\n",
       "    </tr>\n",
       "    <tr>\n",
       "      <th>4</th>\n",
       "      <td>0.231556</td>\n",
       "      <td>0.946578</td>\n",
       "      <td>0.371811</td>\n",
       "      <td>0.890000</td>\n",
       "    </tr>\n",
       "  </tbody>\n",
       "</table>\n",
       "</div>"
      ],
      "text/plain": [
       "       loss  accuracy  val_loss  val_accuracy\n",
       "0  1.037013  0.609349  0.623510      0.783333\n",
       "1  0.489470  0.845576  0.473671      0.816667\n",
       "2  0.363113  0.894825  0.431182      0.840000\n",
       "3  0.292407  0.924040  0.376074      0.863333\n",
       "4  0.231556  0.946578  0.371811      0.890000"
      ]
     },
     "execution_count": 19,
     "metadata": {},
     "output_type": "execute_result"
    }
   ],
   "source": [
    "df_hist = pd.DataFrame(history.history)\n",
    "df_hist.head()"
   ]
  },
  {
   "cell_type": "code",
   "execution_count": 20,
   "metadata": {},
   "outputs": [
    {
     "data": {
      "text/plain": [
       "<matplotlib.axes._subplots.AxesSubplot at 0x7fbd31313090>"
      ]
     },
     "execution_count": 20,
     "metadata": {},
     "output_type": "execute_result"
    },
    {
     "data": {
      "image/png": "[encoded data removed]",
      "text/plain": [
       "<Figure size 864x360 with 1 Axes>"
      ]
     },
     "metadata": {
      "needs_background": "light"
     },
     "output_type": "display_data"
    }
   ],
   "source": [
    "df_hist[[\"accuracy\", \"val_accuracy\"]].plot(figsize=(12, 5))"
   ]
  },
  {
   "cell_type": "code",
   "execution_count": 21,
   "metadata": {},
   "outputs": [
    {
     "data": {
      "text/plain": [
       "<matplotlib.axes._subplots.AxesSubplot at 0x7fbd423aaf90>"
      ]
     },
     "execution_count": 21,
     "metadata": {},
     "output_type": "execute_result"
    },
    {
     "data": {
      "image/png": "[encoded data removed]",
      "text/plain": [
       "<Figure size 864x360 with 1 Axes>"
      ]
     },
     "metadata": {
      "needs_background": "light"
     },
     "output_type": "display_data"
    },
    {
     "data": {
      "image/png": "[encoded data removed]",
      "text/plain": [
       "<Figure size 864x360 with 1 Axes>"
      ]
     },
     "metadata": {
      "needs_background": "light"
     },
     "output_type": "display_data"
    }
   ],
   "source": [
    "df_hist[[\"accuracy\", \"val_accuracy\"]].plot(figsize=(12, 5))\n",
    "df_hist[[\"val_loss\", \"val_loss\"]].plot(figsize=(12, 5))"
   ]
  },
  {
   "cell_type": "code",
   "execution_count": 22,
   "metadata": {},
   "outputs": [
    {
     "name": "stdout",
     "output_type": "stream",
     "text": [
      "WARNING:tensorflow:From <ipython-input-22-3da8bb2335be>:2: Sequential.predict_classes (from tensorflow.python.keras.engine.sequential) is deprecated and will be removed after 2021-01-01.\n",
      "Instructions for updating:\n",
      "Please use instead:* `np.argmax(model.predict(x), axis=-1)`,   if your model does multi-class classification   (e.g. if it uses a `softmax` last-layer activation).* `(model.predict(x) > 0.5).astype(\"int32\")`,   if your model does binary classification   (e.g. if it uses a `sigmoid` last-layer activation).\n"
     ]
    },
    {
     "data": {
      "text/plain": [
       "array([2, 1, 1, 1, 4, 4, 2, 4, 3, 0, 4, 2, 2, 1, 0])"
      ]
     },
     "execution_count": 22,
     "metadata": {},
     "output_type": "execute_result"
    }
   ],
   "source": [
    "# 학습한 내용을 바탕으로 예측을 합니다.\n",
    "y_pred = model.predict_classes(x_test)\n",
    "y_pred[:15]"
   ]
  },
  {
   "cell_type": "code",
   "execution_count": null,
   "metadata": {},
   "outputs": [],
   "source": [
    "# 예측값과 실제값을 비교해 봅니다.\n",
    "plt.figure(figsize=(12,9))\n",
    "for i in range(10):\n",
    "    sample = random.choice(range(len(x_test)))\n",
    "    plt.subplot(2, 5, i+1)\n",
    "    plt.subplots_adjust(hspace=0.3)\n",
    "    plt.imshow(x_test[sample])\n",
    "    plt.xlabel(f\"Actual: {y_test[sample]}\\n Predicted: {y_pred[sample]}\")\n",
    "    \n",
    "plt.tight_layout()    \n",
    "plt.show()                       "
   ]
  },
  {
   "cell_type": "code",
   "execution_count": null,
   "metadata": {},
   "outputs": [],
   "source": []
  }
 ],
 "metadata": {
  "kernelspec": {
   "display_name": "Python 3",
   "language": "python",
   "name": "python3"
  },
  "language_info": {
   "codemirror_mode": {
    "name": "ipython",
    "version": 3
   },
   "file_extension": ".py",
   "mimetype": "text/x-python",
   "name": "python",
   "nbconvert_exporter": "python",
   "pygments_lexer": "ipython3",
   "version": "3.7.6"
  },
  "toc": {
   "base_numbering": 1,
   "nav_menu": {},
   "number_sections": true,
   "sideBar": true,
   "skip_h1_title": false,
   "title_cell": "Table of Contents",
   "title_sidebar": "Contents",
   "toc_cell": false,
   "toc_position": {},
   "toc_section_display": true,
   "toc_window_display": false
  },
  "varInspector": {
   "cols": {
    "lenName": 16,
    "lenType": 16,
    "lenVar": 40
   },
   "kernels_config": {
    "python": {
     "delete_cmd_postfix": "",
     "delete_cmd_prefix": "del ",
     "library": "var_list.py",
     "varRefreshCmd": "print(var_dic_list())"
    },
    "r": {
     "delete_cmd_postfix": ") ",
     "delete_cmd_prefix": "rm(",
     "library": "var_list.r",
     "varRefreshCmd": "cat(var_dic_list()) "
    }
   },
   "types_to_exclude": [
    "module",
    "function",
    "builtin_function_or_method",
    "instance",
    "_Feature"
   ],
   "window_display": false
  }
 },
 "nbformat": 4,
 "nbformat_minor": 4
}
